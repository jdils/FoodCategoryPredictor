{
 "cells": [
  {
   "cell_type": "markdown",
   "metadata": {},
   "source": []
  },
  {
   "cell_type": "markdown",
   "metadata": {},
   "source": [
    "JORDAN DILAPO - Food Category Predictor"
   ]
  },
  {
   "cell_type": "code",
   "execution_count": 1,
   "metadata": {},
   "outputs": [],
   "source": [
    "import pandas as pd\n",
    "import matplotlib.pyplot as plt\n",
    "\n",
    "import sklearn\n",
    "from sklearn.model_selection import train_test_split\n",
    "from sklearn import preprocessing\n",
    "from sklearn.preprocessing import StandardScaler\n",
    "from sklearn import datasets\n",
    "from sklearn.linear_model import LogisticRegression\n",
    "from sklearn import metrics\n",
    "\n",
    "import seaborn as sns\n",
    "import ssl\n",
    "ssl._create_default_https_context = ssl._create_unverified_context\n",
    "\n",
    "%matplotlib inline"
   ]
  },
  {
   "cell_type": "code",
   "execution_count": 2,
   "metadata": {},
   "outputs": [],
   "source": [
    "# URL(xlsx) to Excel file\n",
    "#NOTE IF FILE DOESN'T DOWNLOAD, PLEASE COPY AND PASTE URL AND CLICK ALLOW, THEN RERUN PROGRAM\n",
    "url = 'https://www.myfooddata.com/spreadsheets/MyFoodData-Nutrition-Facts-SpreadSheet-Release-1-4.xlsx'\n",
    "\n",
    "# LOAD COLUMNS NEEDED\n",
    "foodNull = pd.read_excel(url, header=3, usecols = \"B,C,D:F,H:K,W,AB,AN\")\n",
    "foodNull['Food Group'] = foodNull['Food Group'].replace(to_replace ='Dairy and Egg Products ', value = 'Dairy and Egg Products')\n",
    "food = foodNull.fillna(0)\n",
    "food = food[food['Food Group'] != 0]\n",
    "\n",
    "#COMMENT OUT FOOD CATEGORIES THAT YOU WOULD LIKE TO TRAIN THE MODEL TO PREDICT\n",
    "food = food[food['Food Group'] != 'Baked Foods']\n",
    "food = food[food['Food Group'] != 'Snacks']\n",
    "#food = food[food['Food Group'] != 'Sweets']\n",
    "#food = food[food['Food Group'] != 'Vegetables']\n",
    "food = food[food['Food Group'] !='American Indian']\n",
    "food = food[food['Food Group'] != 'Restaurant Foods']\n",
    "food = food[food['Food Group'] != 'Beverages']\n",
    "food = food[food['Food Group'] != 'Fats and Oils']\n",
    "#food = food[food['Food Group'] != 'Meats']\n",
    "food = food[food['Food Group'] != 'Dairy and Egg Products']\n",
    "food = food[food['Food Group'] != 'Baby Foods']\n",
    "food = food[food['Food Group'] != 'Breakfast Cereals']\n",
    "food = food[food['Food Group'] != 'Soups and Sauces']\n",
    "food = food[food['Food Group'] != 'Beans and Lentils']\n",
    "food = food[food['Food Group'] != 'Fish']\n",
    "food = food[food['Food Group'] != 'Fruits']\n",
    "food = food[food['Food Group'] != 'Grains and Pasta']\n",
    "food = food[food['Food Group'] != 'Nuts and Seeds']\n",
    "food = food[food['Food Group'] != 'Prepared Meals']\n",
    "food = food[food['Food Group'] != 'Fast Foods']\n",
    "food = food[food['Food Group'] != 'Spices and Herbs']\n",
    "\n",
    "#food.head(10)"
   ]
  },
  {
   "cell_type": "code",
   "execution_count": 3,
   "metadata": {},
   "outputs": [
    {
     "name": "stdout",
     "output_type": "stream",
     "text": [
      "['Sweets', 'Vegetables', 'Meats']\n"
     ]
    }
   ],
   "source": [
    "#TARGETS LIST AS STRINGS\n",
    "\n",
    "target = food.iloc[:, 1]\n",
    "#print(target)\n",
    "targetList = []\n",
    "for k in target:\n",
    "    if k not in targetList:\n",
    "        targetList.append(k)\n",
    "print(targetList)"
   ]
  },
  {
   "cell_type": "code",
   "execution_count": 4,
   "metadata": {},
   "outputs": [
    {
     "name": "stdout",
     "output_type": "stream",
     "text": [
      "{0: 'Sweets', 1: 'Vegetables', 2: 'Meats'}\n"
     ]
    }
   ],
   "source": [
    "# NUMBERS -> TARGETS\n",
    "\n",
    "targetDict = {}\n",
    "i = 0\n",
    "for k in targetList:\n",
    "    targetDict[i] = k\n",
    "    i += 1\n",
    "print(targetDict)"
   ]
  },
  {
   "cell_type": "code",
   "execution_count": 5,
   "metadata": {},
   "outputs": [],
   "source": [
    "#TARGETS ARE NOW NUMBERS\n",
    "\n",
    "i = 0\n",
    "for k in targetList:\n",
    "    food['Food Group'] = food['Food Group'].replace(to_replace =k, value = i)\n",
    "    i += 1\n",
    "    \n",
    "#food.head(10)"
   ]
  },
  {
   "cell_type": "code",
   "execution_count": 6,
   "metadata": {},
   "outputs": [
    {
     "name": "stdout",
     "output_type": "stream",
     "text": [
      "[0, 1, 2]\n"
     ]
    }
   ],
   "source": [
    "#TARGET LIST AS NUMBERS\n",
    "\n",
    "target = food.iloc[:, 1]\n",
    "#print(target)\n",
    "targetList = []\n",
    "for k in target:\n",
    "    if k not in targetList:\n",
    "        targetList.append(k)\n",
    "print(targetList)"
   ]
  },
  {
   "cell_type": "code",
   "execution_count": 7,
   "metadata": {},
   "outputs": [],
   "source": [
    "#FEATURES TO TRAIN MODEL ON\n",
    "\n",
    "features = food.iloc[:, 2:11]\n",
    "#print(features)\n"
   ]
  },
  {
   "cell_type": "code",
   "execution_count": 8,
   "metadata": {},
   "outputs": [
    {
     "name": "stdout",
     "output_type": "stream",
     "text": [
      "{0: 'Calories', 1: 'Fat (g)', 2: 'Protein (g)', 3: 'Sugars (g)', 4: 'Fiber (g)', 5: 'Cholesterol (mg)', 6: 'Saturated Fats (g)', 7: 'Net-Carbs (g)', 8: 'Trans Fatty Acids (g)'}\n"
     ]
    }
   ],
   "source": [
    "# NUMBERS -> FEATURES\n",
    "\n",
    "featureDict = {}\n",
    "i = 0\n",
    "for k in features:\n",
    "    featureDict[i] = k\n",
    "    i += 1\n",
    "print(featureDict)\n",
    "\n",
    "    "
   ]
  },
  {
   "cell_type": "code",
   "execution_count": 9,
   "metadata": {},
   "outputs": [
    {
     "name": "stdout",
     "output_type": "stream",
     "text": [
      "{'Calories': 0, 'Fat (g)': 1, 'Protein (g)': 2, 'Sugars (g)': 3, 'Fiber (g)': 4, 'Cholesterol (mg)': 5, 'Saturated Fats (g)': 6, 'Net-Carbs (g)': 7, 'Trans Fatty Acids (g)': 8}\n"
     ]
    }
   ],
   "source": [
    "# FEATURES -> NUMBERS\n",
    "\n",
    "featureDictRev = {}\n",
    "i = 0\n",
    "for k in features:\n",
    "    featureDictRev[k] = i\n",
    "    i += 1\n",
    "print(featureDictRev)\n",
    "\n"
   ]
  },
  {
   "cell_type": "code",
   "execution_count": 10,
   "metadata": {
    "scrolled": true
   },
   "outputs": [
    {
     "data": {
      "text/plain": [
       "(5977, 12)"
      ]
     },
     "execution_count": 10,
     "metadata": {},
     "output_type": "execute_result"
    }
   ],
   "source": [
    "# NUMBER OF DATA POINTS TO TRAIN MODEL , NUM - 2 = NUMBER OF FEATURES (9)\n",
    "\n",
    "food.shape"
   ]
  },
  {
   "cell_type": "code",
   "execution_count": 11,
   "metadata": {},
   "outputs": [
    {
     "name": "stdout",
     "output_type": "stream",
     "text": [
      "<class 'pandas.core.frame.DataFrame'>\n",
      "Int64Index: 5977 entries, 28 to 13928\n",
      "Data columns (total 12 columns):\n",
      " #   Column                 Non-Null Count  Dtype  \n",
      "---  ------                 --------------  -----  \n",
      " 0   name                   5977 non-null   object \n",
      " 1   Food Group             5977 non-null   int64  \n",
      " 2   Calories               5977 non-null   float64\n",
      " 3   Fat (g)                5977 non-null   float64\n",
      " 4   Protein (g)            5977 non-null   float64\n",
      " 5   Sugars (g)             5977 non-null   float64\n",
      " 6   Fiber (g)              5977 non-null   float64\n",
      " 7   Cholesterol (mg)       5977 non-null   float64\n",
      " 8   Saturated Fats (g)     5977 non-null   float64\n",
      " 9   Net-Carbs (g)          5977 non-null   float64\n",
      " 10  Trans Fatty Acids (g)  5977 non-null   float64\n",
      " 11  Sodium (mg)            5977 non-null   float64\n",
      "dtypes: float64(10), int64(1), object(1)\n",
      "memory usage: 607.0+ KB\n"
     ]
    }
   ],
   "source": [
    "#INFO\n",
    "\n",
    "food.info()"
   ]
  },
  {
   "cell_type": "code",
   "execution_count": 12,
   "metadata": {},
   "outputs": [
    {
     "data": {
      "text/html": [
       "<div>\n",
       "<style scoped>\n",
       "    .dataframe tbody tr th:only-of-type {\n",
       "        vertical-align: middle;\n",
       "    }\n",
       "\n",
       "    .dataframe tbody tr th {\n",
       "        vertical-align: top;\n",
       "    }\n",
       "\n",
       "    .dataframe thead th {\n",
       "        text-align: right;\n",
       "    }\n",
       "</style>\n",
       "<table border=\"1\" class=\"dataframe\">\n",
       "  <thead>\n",
       "    <tr style=\"text-align: right;\">\n",
       "      <th></th>\n",
       "      <th>Food Group</th>\n",
       "      <th>Calories</th>\n",
       "      <th>Fat (g)</th>\n",
       "      <th>Protein (g)</th>\n",
       "      <th>Sugars (g)</th>\n",
       "      <th>Fiber (g)</th>\n",
       "      <th>Cholesterol (mg)</th>\n",
       "      <th>Saturated Fats (g)</th>\n",
       "      <th>Net-Carbs (g)</th>\n",
       "      <th>Trans Fatty Acids (g)</th>\n",
       "      <th>Sodium (mg)</th>\n",
       "    </tr>\n",
       "  </thead>\n",
       "  <tbody>\n",
       "    <tr>\n",
       "      <th>count</th>\n",
       "      <td>5977.000000</td>\n",
       "      <td>5977.000000</td>\n",
       "      <td>5977.000000</td>\n",
       "      <td>5977.000000</td>\n",
       "      <td>5977.000000</td>\n",
       "      <td>5977.000000</td>\n",
       "      <td>5977.000000</td>\n",
       "      <td>5977.000000</td>\n",
       "      <td>5977.000000</td>\n",
       "      <td>5977.000000</td>\n",
       "      <td>5977.000000</td>\n",
       "    </tr>\n",
       "    <tr>\n",
       "      <th>mean</th>\n",
       "      <td>1.449891</td>\n",
       "      <td>161.613686</td>\n",
       "      <td>8.157127</td>\n",
       "      <td>12.719190</td>\n",
       "      <td>4.206490</td>\n",
       "      <td>1.237862</td>\n",
       "      <td>53.531203</td>\n",
       "      <td>2.982165</td>\n",
       "      <td>8.357211</td>\n",
       "      <td>0.082058</td>\n",
       "      <td>249.973231</td>\n",
       "    </tr>\n",
       "    <tr>\n",
       "      <th>std</th>\n",
       "      <td>0.644880</td>\n",
       "      <td>118.057637</td>\n",
       "      <td>9.765730</td>\n",
       "      <td>10.872777</td>\n",
       "      <td>12.538212</td>\n",
       "      <td>2.419942</td>\n",
       "      <td>134.003889</td>\n",
       "      <td>4.149366</td>\n",
       "      <td>16.452302</td>\n",
       "      <td>0.290429</td>\n",
       "      <td>444.667071</td>\n",
       "    </tr>\n",
       "    <tr>\n",
       "      <th>min</th>\n",
       "      <td>0.000000</td>\n",
       "      <td>0.000000</td>\n",
       "      <td>0.000000</td>\n",
       "      <td>0.000000</td>\n",
       "      <td>0.000000</td>\n",
       "      <td>0.000000</td>\n",
       "      <td>0.000000</td>\n",
       "      <td>0.000000</td>\n",
       "      <td>0.000000</td>\n",
       "      <td>0.000000</td>\n",
       "      <td>0.000000</td>\n",
       "    </tr>\n",
       "    <tr>\n",
       "      <th>25%</th>\n",
       "      <td>1.000000</td>\n",
       "      <td>67.000000</td>\n",
       "      <td>2.180000</td>\n",
       "      <td>2.260000</td>\n",
       "      <td>0.000000</td>\n",
       "      <td>0.000000</td>\n",
       "      <td>0.000000</td>\n",
       "      <td>0.466000</td>\n",
       "      <td>0.000000</td>\n",
       "      <td>0.000000</td>\n",
       "      <td>62.000000</td>\n",
       "    </tr>\n",
       "    <tr>\n",
       "      <th>50%</th>\n",
       "      <td>2.000000</td>\n",
       "      <td>141.000000</td>\n",
       "      <td>4.910000</td>\n",
       "      <td>8.900000</td>\n",
       "      <td>0.400000</td>\n",
       "      <td>0.300000</td>\n",
       "      <td>32.000000</td>\n",
       "      <td>1.561000</td>\n",
       "      <td>2.350000</td>\n",
       "      <td>0.000000</td>\n",
       "      <td>182.000000</td>\n",
       "    </tr>\n",
       "    <tr>\n",
       "      <th>75%</th>\n",
       "      <td>2.000000</td>\n",
       "      <td>217.000000</td>\n",
       "      <td>11.020000</td>\n",
       "      <td>22.600000</td>\n",
       "      <td>2.430000</td>\n",
       "      <td>2.000000</td>\n",
       "      <td>80.000000</td>\n",
       "      <td>3.677000</td>\n",
       "      <td>8.620000</td>\n",
       "      <td>0.000000</td>\n",
       "      <td>309.000000</td>\n",
       "    </tr>\n",
       "    <tr>\n",
       "      <th>max</th>\n",
       "      <td>2.000000</td>\n",
       "      <td>898.000000</td>\n",
       "      <td>99.500000</td>\n",
       "      <td>85.600000</td>\n",
       "      <td>99.800000</td>\n",
       "      <td>77.300000</td>\n",
       "      <td>3100.000000</td>\n",
       "      <td>52.300000</td>\n",
       "      <td>100.000000</td>\n",
       "      <td>4.438000</td>\n",
       "      <td>26050.000000</td>\n",
       "    </tr>\n",
       "  </tbody>\n",
       "</table>\n",
       "</div>"
      ],
      "text/plain": [
       "        Food Group     Calories      Fat (g)  Protein (g)   Sugars (g)  \\\n",
       "count  5977.000000  5977.000000  5977.000000  5977.000000  5977.000000   \n",
       "mean      1.449891   161.613686     8.157127    12.719190     4.206490   \n",
       "std       0.644880   118.057637     9.765730    10.872777    12.538212   \n",
       "min       0.000000     0.000000     0.000000     0.000000     0.000000   \n",
       "25%       1.000000    67.000000     2.180000     2.260000     0.000000   \n",
       "50%       2.000000   141.000000     4.910000     8.900000     0.400000   \n",
       "75%       2.000000   217.000000    11.020000    22.600000     2.430000   \n",
       "max       2.000000   898.000000    99.500000    85.600000    99.800000   \n",
       "\n",
       "         Fiber (g)  Cholesterol (mg)  Saturated Fats (g)  Net-Carbs (g)  \\\n",
       "count  5977.000000       5977.000000         5977.000000    5977.000000   \n",
       "mean      1.237862         53.531203            2.982165       8.357211   \n",
       "std       2.419942        134.003889            4.149366      16.452302   \n",
       "min       0.000000          0.000000            0.000000       0.000000   \n",
       "25%       0.000000          0.000000            0.466000       0.000000   \n",
       "50%       0.300000         32.000000            1.561000       2.350000   \n",
       "75%       2.000000         80.000000            3.677000       8.620000   \n",
       "max      77.300000       3100.000000           52.300000     100.000000   \n",
       "\n",
       "       Trans Fatty Acids (g)   Sodium (mg)  \n",
       "count            5977.000000   5977.000000  \n",
       "mean                0.082058    249.973231  \n",
       "std                 0.290429    444.667071  \n",
       "min                 0.000000      0.000000  \n",
       "25%                 0.000000     62.000000  \n",
       "50%                 0.000000    182.000000  \n",
       "75%                 0.000000    309.000000  \n",
       "max                 4.438000  26050.000000  "
      ]
     },
     "execution_count": 12,
     "metadata": {},
     "output_type": "execute_result"
    }
   ],
   "source": [
    "#MORE INFO\n",
    "\n",
    "food.describe()"
   ]
  },
  {
   "cell_type": "code",
   "execution_count": 13,
   "metadata": {},
   "outputs": [
    {
     "name": "stdout",
     "output_type": "stream",
     "text": [
      "(4781, 9) (1196, 9) (4781,) (1196,)\n"
     ]
    }
   ],
   "source": [
    "#TRAINING SET USED TO TRAIN THE ALGORITHMS\n",
    "#TESTING SET USED TO PREDICT THE DATA AND GET AN ACCURACY PERCENTAGE\n",
    "\n",
    "X = features\n",
    "Y = target\n",
    "\n",
    "#CHOOSE SPLIT RATIO WITH THE test_size PARAMETER\n",
    "X_train, X_test, Y_train, Y_test = train_test_split(X, Y, test_size=0.20)\n",
    "print(X_train.shape, X_test.shape, Y_train.shape, Y_test.shape)"
   ]
  },
  {
   "cell_type": "code",
   "execution_count": 14,
   "metadata": {},
   "outputs": [
    {
     "data": {
      "text/plain": [
       "28       0\n",
       "29       0\n",
       "34       0\n",
       "50       0\n",
       "51       0\n",
       "        ..\n",
       "13924    0\n",
       "13925    0\n",
       "13926    0\n",
       "13927    0\n",
       "13928    0\n",
       "Name: Food Group, Length: 5977, dtype: int64"
      ]
     },
     "execution_count": 14,
     "metadata": {},
     "output_type": "execute_result"
    }
   ],
   "source": [
    "#TARGET\n",
    "\n",
    "Y"
   ]
  },
  {
   "cell_type": "code",
   "execution_count": 15,
   "metadata": {},
   "outputs": [
    {
     "data": {
      "text/html": [
       "<div>\n",
       "<style scoped>\n",
       "    .dataframe tbody tr th:only-of-type {\n",
       "        vertical-align: middle;\n",
       "    }\n",
       "\n",
       "    .dataframe tbody tr th {\n",
       "        vertical-align: top;\n",
       "    }\n",
       "\n",
       "    .dataframe thead th {\n",
       "        text-align: right;\n",
       "    }\n",
       "</style>\n",
       "<table border=\"1\" class=\"dataframe\">\n",
       "  <thead>\n",
       "    <tr style=\"text-align: right;\">\n",
       "      <th></th>\n",
       "      <th>Calories</th>\n",
       "      <th>Fat (g)</th>\n",
       "      <th>Protein (g)</th>\n",
       "      <th>Sugars (g)</th>\n",
       "      <th>Fiber (g)</th>\n",
       "      <th>Cholesterol (mg)</th>\n",
       "      <th>Saturated Fats (g)</th>\n",
       "      <th>Net-Carbs (g)</th>\n",
       "      <th>Trans Fatty Acids (g)</th>\n",
       "    </tr>\n",
       "  </thead>\n",
       "  <tbody>\n",
       "    <tr>\n",
       "      <th>28</th>\n",
       "      <td>359.0</td>\n",
       "      <td>2.68</td>\n",
       "      <td>1.00</td>\n",
       "      <td>57.58</td>\n",
       "      <td>0.0</td>\n",
       "      <td>0.0</td>\n",
       "      <td>0.650</td>\n",
       "      <td>82.82</td>\n",
       "      <td>0.000</td>\n",
       "    </tr>\n",
       "    <tr>\n",
       "      <th>29</th>\n",
       "      <td>371.0</td>\n",
       "      <td>3.00</td>\n",
       "      <td>0.10</td>\n",
       "      <td>49.16</td>\n",
       "      <td>0.0</td>\n",
       "      <td>0.0</td>\n",
       "      <td>0.672</td>\n",
       "      <td>85.80</td>\n",
       "      <td>0.000</td>\n",
       "    </tr>\n",
       "    <tr>\n",
       "      <th>34</th>\n",
       "      <td>473.0</td>\n",
       "      <td>20.18</td>\n",
       "      <td>8.72</td>\n",
       "      <td>62.68</td>\n",
       "      <td>1.9</td>\n",
       "      <td>0.0</td>\n",
       "      <td>5.735</td>\n",
       "      <td>65.51</td>\n",
       "      <td>0.029</td>\n",
       "    </tr>\n",
       "    <tr>\n",
       "      <th>50</th>\n",
       "      <td>479.0</td>\n",
       "      <td>26.93</td>\n",
       "      <td>4.13</td>\n",
       "      <td>48.34</td>\n",
       "      <td>5.0</td>\n",
       "      <td>4.0</td>\n",
       "      <td>17.590</td>\n",
       "      <td>54.51</td>\n",
       "      <td>0.000</td>\n",
       "    </tr>\n",
       "    <tr>\n",
       "      <th>51</th>\n",
       "      <td>338.0</td>\n",
       "      <td>1.70</td>\n",
       "      <td>2.97</td>\n",
       "      <td>0.00</td>\n",
       "      <td>0.1</td>\n",
       "      <td>0.0</td>\n",
       "      <td>0.250</td>\n",
       "      <td>79.28</td>\n",
       "      <td>0.540</td>\n",
       "    </tr>\n",
       "    <tr>\n",
       "      <th>...</th>\n",
       "      <td>...</td>\n",
       "      <td>...</td>\n",
       "      <td>...</td>\n",
       "      <td>...</td>\n",
       "      <td>...</td>\n",
       "      <td>...</td>\n",
       "      <td>...</td>\n",
       "      <td>...</td>\n",
       "      <td>...</td>\n",
       "    </tr>\n",
       "    <tr>\n",
       "      <th>13924</th>\n",
       "      <td>400.0</td>\n",
       "      <td>8.03</td>\n",
       "      <td>0.81</td>\n",
       "      <td>55.59</td>\n",
       "      <td>0.0</td>\n",
       "      <td>0.0</td>\n",
       "      <td>7.208</td>\n",
       "      <td>82.15</td>\n",
       "      <td>0.000</td>\n",
       "    </tr>\n",
       "    <tr>\n",
       "      <th>13925</th>\n",
       "      <td>388.0</td>\n",
       "      <td>8.22</td>\n",
       "      <td>4.67</td>\n",
       "      <td>66.50</td>\n",
       "      <td>0.0</td>\n",
       "      <td>7.0</td>\n",
       "      <td>2.514</td>\n",
       "      <td>78.17</td>\n",
       "      <td>0.000</td>\n",
       "    </tr>\n",
       "    <tr>\n",
       "      <th>13926</th>\n",
       "      <td>446.0</td>\n",
       "      <td>18.22</td>\n",
       "      <td>7.62</td>\n",
       "      <td>56.20</td>\n",
       "      <td>1.8</td>\n",
       "      <td>11.0</td>\n",
       "      <td>7.258</td>\n",
       "      <td>65.03</td>\n",
       "      <td>0.000</td>\n",
       "    </tr>\n",
       "    <tr>\n",
       "      <th>13927</th>\n",
       "      <td>511.0</td>\n",
       "      <td>31.93</td>\n",
       "      <td>6.77</td>\n",
       "      <td>43.09</td>\n",
       "      <td>2.8</td>\n",
       "      <td>41.0</td>\n",
       "      <td>20.019</td>\n",
       "      <td>46.81</td>\n",
       "      <td>0.000</td>\n",
       "    </tr>\n",
       "    <tr>\n",
       "      <th>13928</th>\n",
       "      <td>126.0</td>\n",
       "      <td>0.00</td>\n",
       "      <td>0.00</td>\n",
       "      <td>32.47</td>\n",
       "      <td>0.0</td>\n",
       "      <td>0.0</td>\n",
       "      <td>0.000</td>\n",
       "      <td>32.53</td>\n",
       "      <td>0.000</td>\n",
       "    </tr>\n",
       "  </tbody>\n",
       "</table>\n",
       "<p>5977 rows × 9 columns</p>\n",
       "</div>"
      ],
      "text/plain": [
       "       Calories  Fat (g)  Protein (g)  Sugars (g)  Fiber (g)  \\\n",
       "28        359.0     2.68         1.00       57.58        0.0   \n",
       "29        371.0     3.00         0.10       49.16        0.0   \n",
       "34        473.0    20.18         8.72       62.68        1.9   \n",
       "50        479.0    26.93         4.13       48.34        5.0   \n",
       "51        338.0     1.70         2.97        0.00        0.1   \n",
       "...         ...      ...          ...         ...        ...   \n",
       "13924     400.0     8.03         0.81       55.59        0.0   \n",
       "13925     388.0     8.22         4.67       66.50        0.0   \n",
       "13926     446.0    18.22         7.62       56.20        1.8   \n",
       "13927     511.0    31.93         6.77       43.09        2.8   \n",
       "13928     126.0     0.00         0.00       32.47        0.0   \n",
       "\n",
       "       Cholesterol (mg)  Saturated Fats (g)  Net-Carbs (g)  \\\n",
       "28                  0.0               0.650          82.82   \n",
       "29                  0.0               0.672          85.80   \n",
       "34                  0.0               5.735          65.51   \n",
       "50                  4.0              17.590          54.51   \n",
       "51                  0.0               0.250          79.28   \n",
       "...                 ...                 ...            ...   \n",
       "13924               0.0               7.208          82.15   \n",
       "13925               7.0               2.514          78.17   \n",
       "13926              11.0               7.258          65.03   \n",
       "13927              41.0              20.019          46.81   \n",
       "13928               0.0               0.000          32.53   \n",
       "\n",
       "       Trans Fatty Acids (g)  \n",
       "28                     0.000  \n",
       "29                     0.000  \n",
       "34                     0.029  \n",
       "50                     0.000  \n",
       "51                     0.540  \n",
       "...                      ...  \n",
       "13924                  0.000  \n",
       "13925                  0.000  \n",
       "13926                  0.000  \n",
       "13927                  0.000  \n",
       "13928                  0.000  \n",
       "\n",
       "[5977 rows x 9 columns]"
      ]
     },
     "execution_count": 15,
     "metadata": {},
     "output_type": "execute_result"
    }
   ],
   "source": [
    "#FEATURES\n",
    "\n",
    "X\n",
    "#X.iloc[:, 0:11]"
   ]
  },
  {
   "cell_type": "code",
   "execution_count": 16,
   "metadata": {},
   "outputs": [
    {
     "name": "stdout",
     "output_type": "stream",
     "text": [
      "{0: 'Sweets', 1: 'Vegetables', 2: 'Meats'}\n"
     ]
    }
   ],
   "source": [
    "print(targetDict)"
   ]
  },
  {
   "cell_type": "code",
   "execution_count": 17,
   "metadata": {},
   "outputs": [
    {
     "name": "stdout",
     "output_type": "stream",
     "text": [
      "{'Calories': 0, 'Fat (g)': 1, 'Protein (g)': 2, 'Sugars (g)': 3, 'Fiber (g)': 4, 'Cholesterol (mg)': 5, 'Saturated Fats (g)': 6, 'Net-Carbs (g)': 7, 'Trans Fatty Acids (g)': 8}\n"
     ]
    }
   ],
   "source": [
    "print(featureDictRev)"
   ]
  },
  {
   "cell_type": "code",
   "execution_count": 18,
   "metadata": {},
   "outputs": [
    {
     "name": "stdout",
     "output_type": "stream",
     "text": [
      "(5977, 9)\n"
     ]
    },
    {
     "data": {
      "text/plain": [
       "<matplotlib.collections.PathCollection at 0x7fda4cd13730>"
      ]
     },
     "execution_count": 18,
     "metadata": {},
     "output_type": "execute_result"
    },
    {
     "data": {
      "image/png": "[encoded data removed]",
      "text/plain": [
       "<Figure size 432x288 with 1 Axes>"
      ]
     },
     "metadata": {
      "needs_background": "light"
     },
     "output_type": "display_data"
    }
   ],
   "source": [
    "#SCATTER PLOT OF SINGLE FEATURE - CAN CHANGE THE FEATURE YOU WANT TO PLOT\n",
    "\n",
    "print(X.shape)\n",
    "plt.scatter(X.iloc[:, featureDictRev['Sugars (g)']], Y, marker='o', c=Y,\n",
    "            s=25, edgecolor='k')"
   ]
  },
  {
   "cell_type": "code",
   "execution_count": 19,
   "metadata": {},
   "outputs": [
    {
     "name": "stdout",
     "output_type": "stream",
     "text": [
      "{'Calories': 0, 'Fat (g)': 1, 'Protein (g)': 2, 'Sugars (g)': 3, 'Fiber (g)': 4, 'Cholesterol (mg)': 5, 'Saturated Fats (g)': 6, 'Net-Carbs (g)': 7, 'Trans Fatty Acids (g)': 8}\n"
     ]
    }
   ],
   "source": [
    "print(featureDictRev)"
   ]
  },
  {
   "cell_type": "code",
   "execution_count": 20,
   "metadata": {},
   "outputs": [
    {
     "data": {
      "image/png": "[encoded data removed]",
      "text/plain": [
       "<Figure size 720x576 with 2 Axes>"
      ]
     },
     "metadata": {
      "needs_background": "light"
     },
     "output_type": "display_data"
    }
   ],
   "source": [
    "#PLOT COMPARING TWO FEATURES - CAN CHANGE THE FEATURES YOU WANT TO PLOT\n",
    "x_index = featureDictRev['Protein (g)']\n",
    "y_index = featureDictRev['Sugars (g)']\n",
    "                 \n",
    "formatter = plt.FuncFormatter(lambda i, *args: targetDict[int(i)])\n",
    "\n",
    "plt.figure(figsize=(10, 8))\n",
    "plt.scatter(X.iloc[:, x_index], X.iloc[:, y_index], c=Y)\n",
    "plt.colorbar(ticks=targetList, format=formatter)\n",
    "plt.xlabel(featureDict[x_index])\n",
    "plt.ylabel(featureDict[y_index])\n",
    "\n",
    "plt.tight_layout()\n",
    "plt.show()"
   ]
  },
  {
   "cell_type": "code",
   "execution_count": 21,
   "metadata": {},
   "outputs": [
    {
     "name": "stderr",
     "output_type": "stream",
     "text": [
      "/Library/Frameworks/Python.framework/Versions/3.8/lib/python3.8/site-packages/sklearn/linear_model/_logistic.py:762: ConvergenceWarning: lbfgs failed to converge (status=1):\n",
      "STOP: TOTAL NO. of ITERATIONS REACHED LIMIT.\n",
      "\n",
      "Increase the number of iterations (max_iter) or scale the data as shown in:\n",
      "    https://scikit-learn.org/stable/modules/preprocessing.html\n",
      "Please also refer to the documentation for alternative solver options:\n",
      "    https://scikit-learn.org/stable/modules/linear_model.html#logistic-regression\n",
      "  n_iter_i = _check_optimize_result(\n"
     ]
    },
    {
     "data": {
      "text/plain": [
       "LogisticRegression()"
      ]
     },
     "execution_count": 21,
     "metadata": {},
     "output_type": "execute_result"
    }
   ],
   "source": [
    "# LOGISTIC REGRESSION TRAINING\n",
    "logisticRegr = LogisticRegression()\n",
    "logisticRegr.fit(X_train, Y_train)"
   ]
  },
  {
   "cell_type": "code",
   "execution_count": 22,
   "metadata": {},
   "outputs": [
    {
     "data": {
      "text/plain": [
       "array([1, 2, 1, 2, 2, 0, 2, 2, 2, 0, 1, 1, 0, 1, 0, 0, 1, 2, 2, 2, 1, 2,\n",
       "       2, 1, 1, 1, 1, 1, 2, 2, 2, 2, 2, 1, 1, 1, 1, 1, 1, 2, 2, 2, 1, 0,\n",
       "       1, 2, 1, 2, 2, 2, 2, 2, 2, 2, 1, 2, 0, 2, 2, 2, 1, 2, 2, 2, 2, 1,\n",
       "       2, 1, 1, 2, 2, 0, 0, 0, 1, 2, 2, 0, 2, 1, 1, 1, 1, 1, 2, 2, 2, 1,\n",
       "       1, 2, 2, 0, 2, 2, 1, 1, 2, 2, 2, 0])"
      ]
     },
     "execution_count": 22,
     "metadata": {},
     "output_type": "execute_result"
    }
   ],
   "source": [
    "#EXAMPLE OF IT PREDICTING 100 FOOD ITEMS\n",
    "logisticRegr.predict(X_test[0:100])\n"
   ]
  },
  {
   "cell_type": "code",
   "execution_count": 23,
   "metadata": {},
   "outputs": [
    {
     "name": "stdout",
     "output_type": "stream",
     "text": [
      "0.9615384615384616\n",
      "Accuracy of the model guessing if a food is a 'Sweets', 'Vegetables', 'Meats' is 96.15384615384616%\n"
     ]
    }
   ],
   "source": [
    "# PERCENTAGE THAT THE MODEL IS CORRECT\n",
    "score = logisticRegr.score(X_test, Y_test)\n",
    "print(score)\n",
    "targetStr = str(targetDict.values())\n",
    "print(\"Accuracy of the model guessing if a food is a \" + targetStr[13:-2] + \" is \" + str(score * 100)+\"%\")"
   ]
  },
  {
   "cell_type": "code",
   "execution_count": 24,
   "metadata": {},
   "outputs": [],
   "source": [
    "#SET UP PREDICTIONS\n",
    "\n",
    "predictions = logisticRegr.predict(X_test)\n"
   ]
  },
  {
   "cell_type": "code",
   "execution_count": 25,
   "metadata": {},
   "outputs": [
    {
     "name": "stdout",
     "output_type": "stream",
     "text": [
      "[[ 82  16   0]\n",
      " [  7 437  11]\n",
      " [  0  12 631]]\n"
     ]
    }
   ],
   "source": [
    "#CREATE CONFUSION CHART MATRIX\n",
    "\n",
    "cm = metrics.confusion_matrix(Y_test, predictions)\n",
    "print(cm)"
   ]
  },
  {
   "cell_type": "code",
   "execution_count": 26,
   "metadata": {},
   "outputs": [
    {
     "name": "stdout",
     "output_type": "stream",
     "text": [
      "{0: 'Sweets', 1: 'Vegetables', 2: 'Meats'}\n"
     ]
    }
   ],
   "source": [
    "print(targetDict)"
   ]
  },
  {
   "cell_type": "code",
   "execution_count": 27,
   "metadata": {},
   "outputs": [
    {
     "data": {
      "text/plain": [
       "Text(0.5, 1.0, 'Accuracy Score: 0.9615384615384616')"
      ]
     },
     "execution_count": 27,
     "metadata": {},
     "output_type": "execute_result"
    },
    {
     "data": {
      "image/png": "[encoded data removed]",
      "text/plain": [
       "<Figure size 720x720 with 2 Axes>"
      ]
     },
     "metadata": {
      "needs_background": "light"
     },
     "output_type": "display_data"
    }
   ],
   "source": [
    "#FINAL CONFUSION MATRIX\n",
    "\n",
    "plt.figure(figsize=(10,10))\n",
    "ax = sns.heatmap(cm, annot=True, fmt=\".3f\", linewidths=.5, square = True, cmap = 'Blues_r')\n",
    "bottom, top = ax.get_ylim()\n",
    "ax.set_ylim(bottom + 0.5, top - 0.5)\n",
    "plt.ylabel('Actual label')\n",
    "plt.xlabel('Predicted label')\n",
    "all_sample_title = 'Accuracy Score: {0}'.format(score)\n",
    "plt.title(all_sample_title, size = 15)"
   ]
  },
  {
   "cell_type": "code",
   "execution_count": 28,
   "metadata": {},
   "outputs": [],
   "source": [
    "#REFERENCES https://towardsdatascience.com/logistic-regression-using-python-sklearn-numpy-mnist-handwriting-recognition-matplotlib-a6b31e2b166a"
   ]
  },
  {
   "cell_type": "code",
   "execution_count": null,
   "metadata": {},
   "outputs": [],
   "source": []
  },
  {
   "cell_type": "code",
   "execution_count": null,
   "metadata": {},
   "outputs": [],
   "source": []
  }
 ],
 "metadata": {
  "kernelspec": {
   "display_name": "Python 3.8.5 64-bit",
   "language": "python",
   "name": "python3"
  },
  "language_info": {
   "codemirror_mode": {
    "name": "ipython",
    "version": 3
   },
   "file_extension": ".py",
   "mimetype": "text/x-python",
   "name": "python",
   "nbconvert_exporter": "python",
   "pygments_lexer": "ipython3",
   "version": "3.8.5"
  },
  "vscode": {
   "interpreter": {
    "hash": "aee8b7b246df8f9039afb4144a1f6fd8d2ca17a180786b69acc140d282b71a49"
   }
  }
 },
 "nbformat": 4,
 "nbformat_minor": 2
}
